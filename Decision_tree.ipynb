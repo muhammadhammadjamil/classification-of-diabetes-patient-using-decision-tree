{
  "nbformat": 4,
  "nbformat_minor": 0,
  "metadata": {
    "colab": {
      "name": "Decision tree.ipynb",
      "provenance": [],
      "collapsed_sections": []
    },
    "kernelspec": {
      "name": "python3",
      "display_name": "Python 3"
    },
    "language_info": {
      "name": "python"
    },
    "accelerator": "TPU"
  },
  "cells": [
    {
      "cell_type": "code",
      "metadata": {
        "id": "2OHSpsi-c9tx"
      },
      "source": [
        "import numpy as np\n",
        "import pandas as pd\n",
        "import matplotlib.pyplot as plt"
      ],
      "execution_count": 1,
      "outputs": []
    },
    {
      "cell_type": "code",
      "metadata": {
        "colab": {
          "base_uri": "https://localhost:8080/",
          "height": 206
        },
        "id": "9_92V94qi9Jj",
        "outputId": "225358c6-e5ee-445a-c6f8-a6a620d86b1c"
      },
      "source": [
        "df=pd.read_csv(\"/content/diabetes.csv\")\n",
        "df.head()"
      ],
      "execution_count": 2,
      "outputs": [
        {
          "output_type": "execute_result",
          "data": {
            "text/html": [
              "<div>\n",
              "<style scoped>\n",
              "    .dataframe tbody tr th:only-of-type {\n",
              "        vertical-align: middle;\n",
              "    }\n",
              "\n",
              "    .dataframe tbody tr th {\n",
              "        vertical-align: top;\n",
              "    }\n",
              "\n",
              "    .dataframe thead th {\n",
              "        text-align: right;\n",
              "    }\n",
              "</style>\n",
              "<table border=\"1\" class=\"dataframe\">\n",
              "  <thead>\n",
              "    <tr style=\"text-align: right;\">\n",
              "      <th></th>\n",
              "      <th>Pregnancies</th>\n",
              "      <th>Glucose</th>\n",
              "      <th>BloodPressure</th>\n",
              "      <th>SkinThickness</th>\n",
              "      <th>Insulin</th>\n",
              "      <th>BMI</th>\n",
              "      <th>DiabetesPedigreeFunction</th>\n",
              "      <th>Age</th>\n",
              "      <th>Outcome</th>\n",
              "    </tr>\n",
              "  </thead>\n",
              "  <tbody>\n",
              "    <tr>\n",
              "      <th>0</th>\n",
              "      <td>6</td>\n",
              "      <td>148</td>\n",
              "      <td>72</td>\n",
              "      <td>35</td>\n",
              "      <td>0</td>\n",
              "      <td>33.6</td>\n",
              "      <td>0.627</td>\n",
              "      <td>50</td>\n",
              "      <td>1</td>\n",
              "    </tr>\n",
              "    <tr>\n",
              "      <th>1</th>\n",
              "      <td>1</td>\n",
              "      <td>85</td>\n",
              "      <td>66</td>\n",
              "      <td>29</td>\n",
              "      <td>0</td>\n",
              "      <td>26.6</td>\n",
              "      <td>0.351</td>\n",
              "      <td>31</td>\n",
              "      <td>0</td>\n",
              "    </tr>\n",
              "    <tr>\n",
              "      <th>2</th>\n",
              "      <td>8</td>\n",
              "      <td>183</td>\n",
              "      <td>64</td>\n",
              "      <td>0</td>\n",
              "      <td>0</td>\n",
              "      <td>23.3</td>\n",
              "      <td>0.672</td>\n",
              "      <td>32</td>\n",
              "      <td>1</td>\n",
              "    </tr>\n",
              "    <tr>\n",
              "      <th>3</th>\n",
              "      <td>1</td>\n",
              "      <td>89</td>\n",
              "      <td>66</td>\n",
              "      <td>23</td>\n",
              "      <td>94</td>\n",
              "      <td>28.1</td>\n",
              "      <td>0.167</td>\n",
              "      <td>21</td>\n",
              "      <td>0</td>\n",
              "    </tr>\n",
              "    <tr>\n",
              "      <th>4</th>\n",
              "      <td>0</td>\n",
              "      <td>137</td>\n",
              "      <td>40</td>\n",
              "      <td>35</td>\n",
              "      <td>168</td>\n",
              "      <td>43.1</td>\n",
              "      <td>2.288</td>\n",
              "      <td>33</td>\n",
              "      <td>1</td>\n",
              "    </tr>\n",
              "  </tbody>\n",
              "</table>\n",
              "</div>"
            ],
            "text/plain": [
              "   Pregnancies  Glucose  BloodPressure  ...  DiabetesPedigreeFunction  Age  Outcome\n",
              "0            6      148             72  ...                     0.627   50        1\n",
              "1            1       85             66  ...                     0.351   31        0\n",
              "2            8      183             64  ...                     0.672   32        1\n",
              "3            1       89             66  ...                     0.167   21        0\n",
              "4            0      137             40  ...                     2.288   33        1\n",
              "\n",
              "[5 rows x 9 columns]"
            ]
          },
          "metadata": {},
          "execution_count": 2
        }
      ]
    },
    {
      "cell_type": "code",
      "metadata": {
        "colab": {
          "base_uri": "https://localhost:8080/"
        },
        "id": "HSO6xKqHjB3a",
        "outputId": "3bc144c5-4c37-4c63-c8e5-aa260dddf5b8"
      },
      "source": [
        "len(df)"
      ],
      "execution_count": 52,
      "outputs": [
        {
          "output_type": "execute_result",
          "data": {
            "text/plain": [
              "768"
            ]
          },
          "metadata": {},
          "execution_count": 52
        }
      ]
    },
    {
      "cell_type": "code",
      "metadata": {
        "colab": {
          "base_uri": "https://localhost:8080/"
        },
        "id": "TpIA431ijJjC",
        "outputId": "0103591d-c5f2-40fb-9ca6-afe5fa3c141c"
      },
      "source": [
        "df.count()"
      ],
      "execution_count": 4,
      "outputs": [
        {
          "output_type": "execute_result",
          "data": {
            "text/plain": [
              "Pregnancies                 768\n",
              "Glucose                     768\n",
              "BloodPressure               768\n",
              "SkinThickness               768\n",
              "Insulin                     768\n",
              "BMI                         768\n",
              "DiabetesPedigreeFunction    768\n",
              "Age                         768\n",
              "Outcome                     768\n",
              "dtype: int64"
            ]
          },
          "metadata": {},
          "execution_count": 4
        }
      ]
    },
    {
      "cell_type": "code",
      "metadata": {
        "colab": {
          "base_uri": "https://localhost:8080/"
        },
        "id": "roa5AWnzjLUC",
        "outputId": "9c904aff-9035-4d37-91d6-373851dd699b"
      },
      "source": [
        "df.shape"
      ],
      "execution_count": 5,
      "outputs": [
        {
          "output_type": "execute_result",
          "data": {
            "text/plain": [
              "(768, 9)"
            ]
          },
          "metadata": {},
          "execution_count": 5
        }
      ]
    },
    {
      "cell_type": "code",
      "metadata": {
        "colab": {
          "base_uri": "https://localhost:8080/"
        },
        "id": "VoGj7hOSjObt",
        "outputId": "f52954e9-a1c6-4a79-bfda-aee509c30990"
      },
      "source": [
        "df['Outcome'].value_counts()"
      ],
      "execution_count": 6,
      "outputs": [
        {
          "output_type": "execute_result",
          "data": {
            "text/plain": [
              "0    500\n",
              "1    268\n",
              "Name: Outcome, dtype: int64"
            ]
          },
          "metadata": {},
          "execution_count": 6
        }
      ]
    },
    {
      "cell_type": "code",
      "metadata": {
        "colab": {
          "base_uri": "https://localhost:8080/"
        },
        "id": "lc8Bi8DGjZzN",
        "outputId": "7d4648de-0cd0-43e1-94cf-23ed4223d6a6"
      },
      "source": [
        "df.isnull().values.any()"
      ],
      "execution_count": 7,
      "outputs": [
        {
          "output_type": "execute_result",
          "data": {
            "text/plain": [
              "False"
            ]
          },
          "metadata": {},
          "execution_count": 7
        }
      ]
    },
    {
      "cell_type": "code",
      "metadata": {
        "colab": {
          "base_uri": "https://localhost:8080/"
        },
        "id": "Biby4hxb_5mY",
        "outputId": "382660d7-306e-4aad-c5e0-25c10e5be453"
      },
      "source": [
        "df.columns"
      ],
      "execution_count": 8,
      "outputs": [
        {
          "output_type": "execute_result",
          "data": {
            "text/plain": [
              "Index(['Pregnancies', 'Glucose', 'BloodPressure', 'SkinThickness', 'Insulin',\n",
              "       'BMI', 'DiabetesPedigreeFunction', 'Age', 'Outcome'],\n",
              "      dtype='object')"
            ]
          },
          "metadata": {},
          "execution_count": 8
        }
      ]
    },
    {
      "cell_type": "code",
      "metadata": {
        "id": "gTAcqNMh_7jV"
      },
      "source": [
        ""
      ],
      "execution_count": null,
      "outputs": []
    },
    {
      "cell_type": "markdown",
      "metadata": {
        "id": "QrBrH3bp_-fJ"
      },
      "source": [
        "##removing unwanted columns"
      ]
    },
    {
      "cell_type": "code",
      "metadata": {
        "id": "vhAgzRjc__nz"
      },
      "source": [
        "feature_colum=['Pregnancies', 'Glucose','SkinThickness', 'Insulin',\n",
        "       'BMI', 'DiabetesPedigreeFunction', 'Age']\n",
        "x=df[feature_colum]\n",
        "y=df['Outcome']"
      ],
      "execution_count": 9,
      "outputs": []
    },
    {
      "cell_type": "code",
      "metadata": {
        "colab": {
          "base_uri": "https://localhost:8080/"
        },
        "id": "sk6iauB9ACYa",
        "outputId": "52d8ce5a-00a8-40d1-9781-6a5f1cd9f25f"
      },
      "source": [
        "x.shape , y.shape"
      ],
      "execution_count": 10,
      "outputs": [
        {
          "output_type": "execute_result",
          "data": {
            "text/plain": [
              "((768, 7), (768,))"
            ]
          },
          "metadata": {},
          "execution_count": 10
        }
      ]
    },
    {
      "cell_type": "markdown",
      "metadata": {
        "id": "azqyV59EAPwN"
      },
      "source": [
        "### split data into train and test"
      ]
    },
    {
      "cell_type": "code",
      "metadata": {
        "id": "gilj0nVqAQv3"
      },
      "source": [
        "from sklearn.model_selection import train_test_split\n",
        "X_train,x_test,y_train,y_test=train_test_split(x,y,test_size=0.2,random_state=1)"
      ],
      "execution_count": 11,
      "outputs": []
    },
    {
      "cell_type": "code",
      "metadata": {
        "colab": {
          "base_uri": "https://localhost:8080/"
        },
        "id": "VcT42T7_AaWa",
        "outputId": "1c69dbc0-8a9d-4bcd-f0d3-72751889ca22"
      },
      "source": [
        "X_train.shape ,x_test.shape"
      ],
      "execution_count": 12,
      "outputs": [
        {
          "output_type": "execute_result",
          "data": {
            "text/plain": [
              "((614, 7), (154, 7))"
            ]
          },
          "metadata": {},
          "execution_count": 12
        }
      ]
    },
    {
      "cell_type": "markdown",
      "metadata": {
        "id": "B6aVS0LPAfKx"
      },
      "source": [
        "##Building model"
      ]
    },
    {
      "cell_type": "code",
      "metadata": {
        "id": "nwsNSq5kAeKN"
      },
      "source": [
        "from sklearn.tree import DecisionTreeClassifier"
      ],
      "execution_count": 13,
      "outputs": []
    },
    {
      "cell_type": "code",
      "metadata": {
        "id": "96qp8M3hAk7p"
      },
      "source": [
        "clf=DecisionTreeClassifier(criterion='entropy',max_depth=3)\n",
        "clf=clf.fit(X_train,y_train)"
      ],
      "execution_count": 48,
      "outputs": []
    },
    {
      "cell_type": "code",
      "metadata": {
        "id": "ydQSGoKzAnMm"
      },
      "source": [
        "y_pred=clf.predict(x_test)"
      ],
      "execution_count": 49,
      "outputs": []
    },
    {
      "cell_type": "markdown",
      "metadata": {
        "id": "0nZhDGxlAsVC"
      },
      "source": [
        "##model evaluation"
      ]
    },
    {
      "cell_type": "code",
      "metadata": {
        "id": "5cp8C2rIApCz"
      },
      "source": [
        "\n",
        "from sklearn import metrics"
      ],
      "execution_count": 50,
      "outputs": []
    },
    {
      "cell_type": "code",
      "metadata": {
        "colab": {
          "base_uri": "https://localhost:8080/"
        },
        "id": "d_w00X1_Aw09",
        "outputId": "4f374089-65e4-4b1b-fa45-dc3dd3e191c7"
      },
      "source": [
        "print(\"Accuracy\",metrics.accuracy_score(y_test,y_pred))"
      ],
      "execution_count": 51,
      "outputs": [
        {
          "output_type": "stream",
          "name": "stdout",
          "text": [
            "Accuracy 0.7987012987012987\n"
          ]
        }
      ]
    },
    {
      "cell_type": "code",
      "metadata": {
        "id": "s0k-_BnqAywI"
      },
      "source": [
        "from sklearn.metrics import classification_report"
      ],
      "execution_count": 53,
      "outputs": []
    },
    {
      "cell_type": "code",
      "metadata": {
        "colab": {
          "base_uri": "https://localhost:8080/"
        },
        "id": "SZsRPP5bCnlj",
        "outputId": "951c6108-ecf2-422d-cabb-ba3d013b2767"
      },
      "source": [
        "print(classification_report(y_test,y_pred))"
      ],
      "execution_count": 55,
      "outputs": [
        {
          "output_type": "stream",
          "name": "stdout",
          "text": [
            "              precision    recall  f1-score   support\n",
            "\n",
            "           0       0.81      0.89      0.85        99\n",
            "           1       0.76      0.64      0.69        55\n",
            "\n",
            "    accuracy                           0.80       154\n",
            "   macro avg       0.79      0.76      0.77       154\n",
            "weighted avg       0.80      0.80      0.79       154\n",
            "\n"
          ]
        }
      ]
    },
    {
      "cell_type": "code",
      "metadata": {
        "id": "zTHidJTCCpb2"
      },
      "source": [
        "from sklearn.metrics import confusion_matrix"
      ],
      "execution_count": 56,
      "outputs": []
    },
    {
      "cell_type": "code",
      "metadata": {
        "colab": {
          "base_uri": "https://localhost:8080/"
        },
        "id": "XHBA68hSCy-M",
        "outputId": "8f9a3211-82bf-4ae3-d92e-ce78140806fb"
      },
      "source": [
        "confusion_matrix(y_test,y_pred)"
      ],
      "execution_count": 57,
      "outputs": [
        {
          "output_type": "execute_result",
          "data": {
            "text/plain": [
              "array([[88, 11],\n",
              "       [20, 35]])"
            ]
          },
          "metadata": {},
          "execution_count": 57
        }
      ]
    },
    {
      "cell_type": "markdown",
      "metadata": {
        "id": "jgJJVSC2C8It"
      },
      "source": [
        "##text representation of decision tree ¶"
      ]
    },
    {
      "cell_type": "code",
      "metadata": {
        "colab": {
          "base_uri": "https://localhost:8080/"
        },
        "id": "53vpuobbE6QW",
        "outputId": "3f5a1a32-2a0a-4fe6-97af-90555c8c755e"
      },
      "source": [
        "from sklearn import tree\n",
        "text_representation = tree.export_text(clf)\n",
        "print(text_representation)"
      ],
      "execution_count": 60,
      "outputs": [
        {
          "output_type": "stream",
          "name": "stdout",
          "text": [
            "|--- feature_1 <= 127.50\n",
            "|   |--- feature_4 <= 26.45\n",
            "|   |   |--- feature_4 <= 9.10\n",
            "|   |   |   |--- class: 0\n",
            "|   |   |--- feature_4 >  9.10\n",
            "|   |   |   |--- class: 0\n",
            "|   |--- feature_4 >  26.45\n",
            "|   |   |--- feature_6 <= 28.50\n",
            "|   |   |   |--- class: 0\n",
            "|   |   |--- feature_6 >  28.50\n",
            "|   |   |   |--- class: 0\n",
            "|--- feature_1 >  127.50\n",
            "|   |--- feature_1 <= 166.50\n",
            "|   |   |--- feature_4 <= 29.95\n",
            "|   |   |   |--- class: 0\n",
            "|   |   |--- feature_4 >  29.95\n",
            "|   |   |   |--- class: 1\n",
            "|   |--- feature_1 >  166.50\n",
            "|   |   |--- feature_1 <= 172.50\n",
            "|   |   |   |--- class: 1\n",
            "|   |   |--- feature_1 >  172.50\n",
            "|   |   |   |--- class: 1\n",
            "\n"
          ]
        }
      ]
    },
    {
      "cell_type": "markdown",
      "metadata": {
        "id": "sAik_GPvGKFR"
      },
      "source": [
        "## tree visualization using  graph viz"
      ]
    },
    {
      "cell_type": "code",
      "metadata": {
        "colab": {
          "base_uri": "https://localhost:8080/",
          "height": 619
        },
        "id": "SYnZbJqQC06R",
        "outputId": "1792271c-fbb2-4752-f7f6-0f5dd9797018"
      },
      "source": [
        "import graphviz\n",
        "dot_data=tree.export_graphviz(clf,feature_names=feature_colum,\n",
        "                              class_names=[\"0\", \"1\"],\n",
        "                             out_file=None,\n",
        "                                filled=True,\n",
        "                                rounded=True,\n",
        "                             special_characters=True)  \n",
        "graph = graphviz.Source(dot_data)\n",
        "graph"
      ],
      "execution_count": 66,
      "outputs": [
        {
          "output_type": "execute_result",
          "data": {
            "text/plain": [
              "<graphviz.files.Source at 0x7ff790c49b50>"
            ],
            "image/svg+xml": "<?xml version=\"1.0\" encoding=\"UTF-8\" standalone=\"no\"?>\n<!DOCTYPE svg PUBLIC \"-//W3C//DTD SVG 1.1//EN\"\n \"http://www.w3.org/Graphics/SVG/1.1/DTD/svg11.dtd\">\n<!-- Generated by graphviz version 2.40.1 (20161225.0304)\n -->\n<!-- Title: Tree Pages: 1 -->\n<svg width=\"1074pt\" height=\"433pt\"\n viewBox=\"0.00 0.00 1074.00 433.00\" xmlns=\"http://www.w3.org/2000/svg\" xmlns:xlink=\"http://www.w3.org/1999/xlink\">\n<g id=\"graph0\" class=\"graph\" transform=\"scale(1 1) rotate(0) translate(4 429)\">\n<title>Tree</title>\n<polygon fill=\"#ffffff\" stroke=\"transparent\" points=\"-4,4 -4,-429 1070,-429 1070,4 -4,4\"/>\n<!-- 0 -->\n<g id=\"node1\" class=\"node\">\n<title>0</title>\n<path fill=\"#f3c4a2\" stroke=\"#000000\" d=\"M591,-425C591,-425 483,-425 483,-425 477,-425 471,-419 471,-413 471,-413 471,-354 471,-354 471,-348 477,-342 483,-342 483,-342 591,-342 591,-342 597,-342 603,-348 603,-354 603,-354 603,-413 603,-413 603,-419 597,-425 591,-425\"/>\n<text text-anchor=\"start\" x=\"484\" y=\"-409.8\" font-family=\"Helvetica,sans-Serif\" font-size=\"14.00\" fill=\"#000000\">Glucose ≤ 127.5</text>\n<text text-anchor=\"start\" x=\"486\" y=\"-394.8\" font-family=\"Helvetica,sans-Serif\" font-size=\"14.00\" fill=\"#000000\">entropy = 0.931</text>\n<text text-anchor=\"start\" x=\"489\" y=\"-379.8\" font-family=\"Helvetica,sans-Serif\" font-size=\"14.00\" fill=\"#000000\">samples = 614</text>\n<text text-anchor=\"start\" x=\"479\" y=\"-364.8\" font-family=\"Helvetica,sans-Serif\" font-size=\"14.00\" fill=\"#000000\">value = [401, 213]</text>\n<text text-anchor=\"start\" x=\"508\" y=\"-349.8\" font-family=\"Helvetica,sans-Serif\" font-size=\"14.00\" fill=\"#000000\">class = 0</text>\n</g>\n<!-- 1 -->\n<g id=\"node2\" class=\"node\">\n<title>1</title>\n<path fill=\"#eb9f68\" stroke=\"#000000\" d=\"M450,-306C450,-306 350,-306 350,-306 344,-306 338,-300 338,-294 338,-294 338,-235 338,-235 338,-229 344,-223 350,-223 350,-223 450,-223 450,-223 456,-223 462,-229 462,-235 462,-235 462,-294 462,-294 462,-300 456,-306 450,-306\"/>\n<text text-anchor=\"start\" x=\"361\" y=\"-290.8\" font-family=\"Helvetica,sans-Serif\" font-size=\"14.00\" fill=\"#000000\">BMI ≤ 26.45</text>\n<text text-anchor=\"start\" x=\"349\" y=\"-275.8\" font-family=\"Helvetica,sans-Serif\" font-size=\"14.00\" fill=\"#000000\">entropy = 0.707</text>\n<text text-anchor=\"start\" x=\"352\" y=\"-260.8\" font-family=\"Helvetica,sans-Serif\" font-size=\"14.00\" fill=\"#000000\">samples = 389</text>\n<text text-anchor=\"start\" x=\"346\" y=\"-245.8\" font-family=\"Helvetica,sans-Serif\" font-size=\"14.00\" fill=\"#000000\">value = [314, 75]</text>\n<text text-anchor=\"start\" x=\"371\" y=\"-230.8\" font-family=\"Helvetica,sans-Serif\" font-size=\"14.00\" fill=\"#000000\">class = 0</text>\n</g>\n<!-- 0&#45;&gt;1 -->\n<g id=\"edge1\" class=\"edge\">\n<title>0&#45;&gt;1</title>\n<path fill=\"none\" stroke=\"#000000\" d=\"M489.084,-341.8796C478.3007,-332.513 466.7671,-322.4948 455.6961,-312.8784\"/>\n<polygon fill=\"#000000\" stroke=\"#000000\" points=\"457.9653,-310.2134 448.1205,-306.2981 453.3749,-315.4982 457.9653,-310.2134\"/>\n<text text-anchor=\"middle\" x=\"449.874\" y=\"-327.5365\" font-family=\"Helvetica,sans-Serif\" font-size=\"14.00\" fill=\"#000000\">True</text>\n</g>\n<!-- 8 -->\n<g id=\"node9\" class=\"node\">\n<title>8</title>\n<path fill=\"#b6dbf5\" stroke=\"#000000\" d=\"M723,-306C723,-306 623,-306 623,-306 617,-306 611,-300 611,-294 611,-294 611,-235 611,-235 611,-229 617,-223 623,-223 623,-223 723,-223 723,-223 729,-223 735,-229 735,-235 735,-235 735,-294 735,-294 735,-300 729,-306 723,-306\"/>\n<text text-anchor=\"start\" x=\"620\" y=\"-290.8\" font-family=\"Helvetica,sans-Serif\" font-size=\"14.00\" fill=\"#000000\">Glucose ≤ 166.5</text>\n<text text-anchor=\"start\" x=\"622\" y=\"-275.8\" font-family=\"Helvetica,sans-Serif\" font-size=\"14.00\" fill=\"#000000\">entropy = 0.963</text>\n<text text-anchor=\"start\" x=\"625\" y=\"-260.8\" font-family=\"Helvetica,sans-Serif\" font-size=\"14.00\" fill=\"#000000\">samples = 225</text>\n<text text-anchor=\"start\" x=\"619\" y=\"-245.8\" font-family=\"Helvetica,sans-Serif\" font-size=\"14.00\" fill=\"#000000\">value = [87, 138]</text>\n<text text-anchor=\"start\" x=\"644\" y=\"-230.8\" font-family=\"Helvetica,sans-Serif\" font-size=\"14.00\" fill=\"#000000\">class = 1</text>\n</g>\n<!-- 0&#45;&gt;8 -->\n<g id=\"edge8\" class=\"edge\">\n<title>0&#45;&gt;8</title>\n<path fill=\"none\" stroke=\"#000000\" d=\"M584.5662,-341.8796C595.1679,-332.6031 606.5002,-322.6874 617.3933,-313.1559\"/>\n<polygon fill=\"#000000\" stroke=\"#000000\" points=\"620.0098,-315.5172 625.2308,-306.2981 615.4002,-310.2491 620.0098,-315.5172\"/>\n<text text-anchor=\"middle\" x=\"623.5678\" y=\"-327.5427\" font-family=\"Helvetica,sans-Serif\" font-size=\"14.00\" fill=\"#000000\">False</text>\n</g>\n<!-- 2 -->\n<g id=\"node3\" class=\"node\">\n<title>2</title>\n<path fill=\"#e6853f\" stroke=\"#000000\" d=\"M242,-187C242,-187 148,-187 148,-187 142,-187 136,-181 136,-175 136,-175 136,-116 136,-116 136,-110 142,-104 148,-104 148,-104 242,-104 242,-104 248,-104 254,-110 254,-116 254,-116 254,-175 254,-175 254,-181 248,-187 242,-187\"/>\n<text text-anchor=\"start\" x=\"164.5\" y=\"-171.8\" font-family=\"Helvetica,sans-Serif\" font-size=\"14.00\" fill=\"#000000\">BMI ≤ 9.1</text>\n<text text-anchor=\"start\" x=\"144\" y=\"-156.8\" font-family=\"Helvetica,sans-Serif\" font-size=\"14.00\" fill=\"#000000\">entropy = 0.181</text>\n<text text-anchor=\"start\" x=\"147\" y=\"-141.8\" font-family=\"Helvetica,sans-Serif\" font-size=\"14.00\" fill=\"#000000\">samples = 110</text>\n<text text-anchor=\"start\" x=\"145\" y=\"-126.8\" font-family=\"Helvetica,sans-Serif\" font-size=\"14.00\" fill=\"#000000\">value = [107, 3]</text>\n<text text-anchor=\"start\" x=\"166\" y=\"-111.8\" font-family=\"Helvetica,sans-Serif\" font-size=\"14.00\" fill=\"#000000\">class = 0</text>\n</g>\n<!-- 1&#45;&gt;2 -->\n<g id=\"edge2\" class=\"edge\">\n<title>1&#45;&gt;2</title>\n<path fill=\"none\" stroke=\"#000000\" d=\"M337.9369,-228.4731C314.2169,-214.7039 287.056,-198.9374 262.8257,-184.872\"/>\n<polygon fill=\"#000000\" stroke=\"#000000\" points=\"264.4487,-181.7672 254.0431,-179.7738 260.9344,-187.8211 264.4487,-181.7672\"/>\n</g>\n<!-- 5 -->\n<g id=\"node6\" class=\"node\">\n<title>5</title>\n<path fill=\"#eead7e\" stroke=\"#000000\" d=\"M450,-187C450,-187 350,-187 350,-187 344,-187 338,-181 338,-175 338,-175 338,-116 338,-116 338,-110 344,-104 350,-104 350,-104 450,-104 450,-104 456,-104 462,-110 462,-116 462,-116 462,-175 462,-175 462,-181 456,-187 450,-187\"/>\n<text text-anchor=\"start\" x=\"365\" y=\"-171.8\" font-family=\"Helvetica,sans-Serif\" font-size=\"14.00\" fill=\"#000000\">Age ≤ 28.5</text>\n<text text-anchor=\"start\" x=\"349\" y=\"-156.8\" font-family=\"Helvetica,sans-Serif\" font-size=\"14.00\" fill=\"#000000\">entropy = 0.824</text>\n<text text-anchor=\"start\" x=\"352\" y=\"-141.8\" font-family=\"Helvetica,sans-Serif\" font-size=\"14.00\" fill=\"#000000\">samples = 279</text>\n<text text-anchor=\"start\" x=\"346\" y=\"-126.8\" font-family=\"Helvetica,sans-Serif\" font-size=\"14.00\" fill=\"#000000\">value = [207, 72]</text>\n<text text-anchor=\"start\" x=\"371\" y=\"-111.8\" font-family=\"Helvetica,sans-Serif\" font-size=\"14.00\" fill=\"#000000\">class = 0</text>\n</g>\n<!-- 1&#45;&gt;5 -->\n<g id=\"edge5\" class=\"edge\">\n<title>1&#45;&gt;5</title>\n<path fill=\"none\" stroke=\"#000000\" d=\"M400,-222.8796C400,-214.6838 400,-205.9891 400,-197.5013\"/>\n<polygon fill=\"#000000\" stroke=\"#000000\" points=\"403.5001,-197.298 400,-187.2981 396.5001,-197.2981 403.5001,-197.298\"/>\n</g>\n<!-- 3 -->\n<g id=\"node4\" class=\"node\">\n<title>3</title>\n<path fill=\"#efb388\" stroke=\"#000000\" d=\"M106,-68C106,-68 12,-68 12,-68 6,-68 0,-62 0,-56 0,-56 0,-12 0,-12 0,-6 6,0 12,0 12,0 106,0 106,0 112,0 118,-6 118,-12 118,-12 118,-56 118,-56 118,-62 112,-68 106,-68\"/>\n<text text-anchor=\"start\" x=\"8\" y=\"-52.8\" font-family=\"Helvetica,sans-Serif\" font-size=\"14.00\" fill=\"#000000\">entropy = 0.863</text>\n<text text-anchor=\"start\" x=\"19.5\" y=\"-37.8\" font-family=\"Helvetica,sans-Serif\" font-size=\"14.00\" fill=\"#000000\">samples = 7</text>\n<text text-anchor=\"start\" x=\"17.5\" y=\"-22.8\" font-family=\"Helvetica,sans-Serif\" font-size=\"14.00\" fill=\"#000000\">value = [5, 2]</text>\n<text text-anchor=\"start\" x=\"30\" y=\"-7.8\" font-family=\"Helvetica,sans-Serif\" font-size=\"14.00\" fill=\"#000000\">class = 0</text>\n</g>\n<!-- 2&#45;&gt;3 -->\n<g id=\"edge3\" class=\"edge\">\n<title>2&#45;&gt;3</title>\n<path fill=\"none\" stroke=\"#000000\" d=\"M144.3586,-103.9815C132.7001,-94.4232 120.312,-84.2668 108.6941,-74.7419\"/>\n<polygon fill=\"#000000\" stroke=\"#000000\" points=\"110.7448,-71.8972 100.7925,-68.2637 106.3067,-77.3105 110.7448,-71.8972\"/>\n</g>\n<!-- 4 -->\n<g id=\"node5\" class=\"node\">\n<title>4</title>\n<path fill=\"#e5823b\" stroke=\"#000000\" d=\"M242,-68C242,-68 148,-68 148,-68 142,-68 136,-62 136,-56 136,-56 136,-12 136,-12 136,-6 142,0 148,0 148,0 242,0 242,0 248,0 254,-6 254,-12 254,-12 254,-56 254,-56 254,-62 248,-68 242,-68\"/>\n<text text-anchor=\"start\" x=\"144\" y=\"-52.8\" font-family=\"Helvetica,sans-Serif\" font-size=\"14.00\" fill=\"#000000\">entropy = 0.079</text>\n<text text-anchor=\"start\" x=\"147\" y=\"-37.8\" font-family=\"Helvetica,sans-Serif\" font-size=\"14.00\" fill=\"#000000\">samples = 103</text>\n<text text-anchor=\"start\" x=\"145\" y=\"-22.8\" font-family=\"Helvetica,sans-Serif\" font-size=\"14.00\" fill=\"#000000\">value = [102, 1]</text>\n<text text-anchor=\"start\" x=\"166\" y=\"-7.8\" font-family=\"Helvetica,sans-Serif\" font-size=\"14.00\" fill=\"#000000\">class = 0</text>\n</g>\n<!-- 2&#45;&gt;4 -->\n<g id=\"edge4\" class=\"edge\">\n<title>2&#45;&gt;4</title>\n<path fill=\"none\" stroke=\"#000000\" d=\"M195,-103.9815C195,-95.618 195,-86.7965 195,-78.3409\"/>\n<polygon fill=\"#000000\" stroke=\"#000000\" points=\"198.5001,-78.2636 195,-68.2637 191.5001,-78.2637 198.5001,-78.2636\"/>\n</g>\n<!-- 6 -->\n<g id=\"node7\" class=\"node\">\n<title>6</title>\n<path fill=\"#e99458\" stroke=\"#000000\" d=\"M384,-68C384,-68 284,-68 284,-68 278,-68 272,-62 272,-56 272,-56 272,-12 272,-12 272,-6 278,0 284,0 284,0 384,0 384,0 390,0 396,-6 396,-12 396,-12 396,-56 396,-56 396,-62 390,-68 384,-68\"/>\n<text text-anchor=\"start\" x=\"283\" y=\"-52.8\" font-family=\"Helvetica,sans-Serif\" font-size=\"14.00\" fill=\"#000000\">entropy = 0.568</text>\n<text text-anchor=\"start\" x=\"286\" y=\"-37.8\" font-family=\"Helvetica,sans-Serif\" font-size=\"14.00\" fill=\"#000000\">samples = 142</text>\n<text text-anchor=\"start\" x=\"280\" y=\"-22.8\" font-family=\"Helvetica,sans-Serif\" font-size=\"14.00\" fill=\"#000000\">value = [123, 19]</text>\n<text text-anchor=\"start\" x=\"305\" y=\"-7.8\" font-family=\"Helvetica,sans-Serif\" font-size=\"14.00\" fill=\"#000000\">class = 0</text>\n</g>\n<!-- 5&#45;&gt;6 -->\n<g id=\"edge6\" class=\"edge\">\n<title>5&#45;&gt;6</title>\n<path fill=\"none\" stroke=\"#000000\" d=\"M375.424,-103.9815C370.2014,-95.1585 364.6771,-85.8258 359.4237,-76.9506\"/>\n<polygon fill=\"#000000\" stroke=\"#000000\" points=\"362.3874,-75.0863 354.2816,-68.2637 356.3636,-78.652 362.3874,-75.0863\"/>\n</g>\n<!-- 7 -->\n<g id=\"node8\" class=\"node\">\n<title>7</title>\n<path fill=\"#f5d0b6\" stroke=\"#000000\" d=\"M520,-68C520,-68 426,-68 426,-68 420,-68 414,-62 414,-56 414,-56 414,-12 414,-12 414,-6 420,0 426,0 426,0 520,0 520,0 526,0 532,-6 532,-12 532,-12 532,-56 532,-56 532,-62 526,-68 520,-68\"/>\n<text text-anchor=\"start\" x=\"422\" y=\"-52.8\" font-family=\"Helvetica,sans-Serif\" font-size=\"14.00\" fill=\"#000000\">entropy = 0.963</text>\n<text text-anchor=\"start\" x=\"425\" y=\"-37.8\" font-family=\"Helvetica,sans-Serif\" font-size=\"14.00\" fill=\"#000000\">samples = 137</text>\n<text text-anchor=\"start\" x=\"423\" y=\"-22.8\" font-family=\"Helvetica,sans-Serif\" font-size=\"14.00\" fill=\"#000000\">value = [84, 53]</text>\n<text text-anchor=\"start\" x=\"444\" y=\"-7.8\" font-family=\"Helvetica,sans-Serif\" font-size=\"14.00\" fill=\"#000000\">class = 0</text>\n</g>\n<!-- 5&#45;&gt;7 -->\n<g id=\"edge7\" class=\"edge\">\n<title>5&#45;&gt;7</title>\n<path fill=\"none\" stroke=\"#000000\" d=\"M427.1825,-103.9815C433.0192,-95.0666 439.1966,-85.6313 445.0614,-76.6734\"/>\n<polygon fill=\"#000000\" stroke=\"#000000\" points=\"448.0179,-78.5472 450.5673,-68.2637 442.1614,-74.7129 448.0179,-78.5472\"/>\n</g>\n<!-- 9 -->\n<g id=\"node10\" class=\"node\">\n<title>9</title>\n<path fill=\"#f3f9fd\" stroke=\"#000000\" d=\"M720,-187C720,-187 626,-187 626,-187 620,-187 614,-181 614,-175 614,-175 614,-116 614,-116 614,-110 620,-104 626,-104 626,-104 720,-104 720,-104 726,-104 732,-110 732,-116 732,-116 732,-175 732,-175 732,-181 726,-187 720,-187\"/>\n<text text-anchor=\"start\" x=\"634\" y=\"-171.8\" font-family=\"Helvetica,sans-Serif\" font-size=\"14.00\" fill=\"#000000\">BMI ≤ 29.95</text>\n<text text-anchor=\"start\" x=\"622\" y=\"-156.8\" font-family=\"Helvetica,sans-Serif\" font-size=\"14.00\" fill=\"#000000\">entropy = 0.999</text>\n<text text-anchor=\"start\" x=\"625\" y=\"-141.8\" font-family=\"Helvetica,sans-Serif\" font-size=\"14.00\" fill=\"#000000\">samples = 159</text>\n<text text-anchor=\"start\" x=\"623\" y=\"-126.8\" font-family=\"Helvetica,sans-Serif\" font-size=\"14.00\" fill=\"#000000\">value = [77, 82]</text>\n<text text-anchor=\"start\" x=\"644\" y=\"-111.8\" font-family=\"Helvetica,sans-Serif\" font-size=\"14.00\" fill=\"#000000\">class = 1</text>\n</g>\n<!-- 8&#45;&gt;9 -->\n<g id=\"edge9\" class=\"edge\">\n<title>8&#45;&gt;9</title>\n<path fill=\"none\" stroke=\"#000000\" d=\"M673,-222.8796C673,-214.6838 673,-205.9891 673,-197.5013\"/>\n<polygon fill=\"#000000\" stroke=\"#000000\" points=\"676.5001,-197.298 673,-187.2981 669.5001,-197.2981 676.5001,-197.298\"/>\n</g>\n<!-- 12 -->\n<g id=\"node13\" class=\"node\">\n<title>12</title>\n<path fill=\"#5caeea\" stroke=\"#000000\" d=\"M925,-187C925,-187 827,-187 827,-187 821,-187 815,-181 815,-175 815,-175 815,-116 815,-116 815,-110 821,-104 827,-104 827,-104 925,-104 925,-104 931,-104 937,-110 937,-116 937,-116 937,-175 937,-175 937,-181 931,-187 925,-187\"/>\n<text text-anchor=\"start\" x=\"823\" y=\"-171.8\" font-family=\"Helvetica,sans-Serif\" font-size=\"14.00\" fill=\"#000000\">Glucose ≤ 172.5</text>\n<text text-anchor=\"start\" x=\"825\" y=\"-156.8\" font-family=\"Helvetica,sans-Serif\" font-size=\"14.00\" fill=\"#000000\">entropy = 0.614</text>\n<text text-anchor=\"start\" x=\"832\" y=\"-141.8\" font-family=\"Helvetica,sans-Serif\" font-size=\"14.00\" fill=\"#000000\">samples = 66</text>\n<text text-anchor=\"start\" x=\"826\" y=\"-126.8\" font-family=\"Helvetica,sans-Serif\" font-size=\"14.00\" fill=\"#000000\">value = [10, 56]</text>\n<text text-anchor=\"start\" x=\"847\" y=\"-111.8\" font-family=\"Helvetica,sans-Serif\" font-size=\"14.00\" fill=\"#000000\">class = 1</text>\n</g>\n<!-- 8&#45;&gt;12 -->\n<g id=\"edge12\" class=\"edge\">\n<title>8&#45;&gt;12</title>\n<path fill=\"none\" stroke=\"#000000\" d=\"M735.0097,-228.1495C757.4454,-214.9975 782.9309,-200.0577 806.0051,-186.5315\"/>\n<polygon fill=\"#000000\" stroke=\"#000000\" points=\"807.8621,-189.5 814.719,-181.4233 804.322,-183.4611 807.8621,-189.5\"/>\n</g>\n<!-- 10 -->\n<g id=\"node11\" class=\"node\">\n<title>10</title>\n<path fill=\"#f0b489\" stroke=\"#000000\" d=\"M656,-68C656,-68 562,-68 562,-68 556,-68 550,-62 550,-56 550,-56 550,-12 550,-12 550,-6 556,0 562,0 562,0 656,0 656,0 662,0 668,-6 668,-12 668,-12 668,-56 668,-56 668,-62 662,-68 656,-68\"/>\n<text text-anchor=\"start\" x=\"558\" y=\"-52.8\" font-family=\"Helvetica,sans-Serif\" font-size=\"14.00\" fill=\"#000000\">entropy = 0.867</text>\n<text text-anchor=\"start\" x=\"565\" y=\"-37.8\" font-family=\"Helvetica,sans-Serif\" font-size=\"14.00\" fill=\"#000000\">samples = 52</text>\n<text text-anchor=\"start\" x=\"559\" y=\"-22.8\" font-family=\"Helvetica,sans-Serif\" font-size=\"14.00\" fill=\"#000000\">value = [37, 15]</text>\n<text text-anchor=\"start\" x=\"580\" y=\"-7.8\" font-family=\"Helvetica,sans-Serif\" font-size=\"14.00\" fill=\"#000000\">class = 0</text>\n</g>\n<!-- 9&#45;&gt;10 -->\n<g id=\"edge10\" class=\"edge\">\n<title>9&#45;&gt;10</title>\n<path fill=\"none\" stroke=\"#000000\" d=\"M649.1688,-103.9815C644.1044,-95.1585 638.7475,-85.8258 633.6532,-76.9506\"/>\n<polygon fill=\"#000000\" stroke=\"#000000\" points=\"636.6807,-75.1942 628.667,-68.2637 630.6097,-78.6789 636.6807,-75.1942\"/>\n</g>\n<!-- 11 -->\n<g id=\"node12\" class=\"node\">\n<title>11</title>\n<path fill=\"#afd8f5\" stroke=\"#000000\" d=\"M792,-68C792,-68 698,-68 698,-68 692,-68 686,-62 686,-56 686,-56 686,-12 686,-12 686,-6 692,0 698,0 698,0 792,0 792,0 798,0 804,-6 804,-12 804,-12 804,-56 804,-56 804,-62 798,-68 792,-68\"/>\n<text text-anchor=\"start\" x=\"694\" y=\"-52.8\" font-family=\"Helvetica,sans-Serif\" font-size=\"14.00\" fill=\"#000000\">entropy = 0.954</text>\n<text text-anchor=\"start\" x=\"697\" y=\"-37.8\" font-family=\"Helvetica,sans-Serif\" font-size=\"14.00\" fill=\"#000000\">samples = 107</text>\n<text text-anchor=\"start\" x=\"695\" y=\"-22.8\" font-family=\"Helvetica,sans-Serif\" font-size=\"14.00\" fill=\"#000000\">value = [40, 67]</text>\n<text text-anchor=\"start\" x=\"716\" y=\"-7.8\" font-family=\"Helvetica,sans-Serif\" font-size=\"14.00\" fill=\"#000000\">class = 1</text>\n</g>\n<!-- 9&#45;&gt;11 -->\n<g id=\"edge11\" class=\"edge\">\n<title>9&#45;&gt;11</title>\n<path fill=\"none\" stroke=\"#000000\" d=\"M699.8101,-103.9815C705.5669,-95.0666 711.6596,-85.6313 717.4441,-76.6734\"/>\n<polygon fill=\"#000000\" stroke=\"#000000\" points=\"720.3901,-78.5631 722.8746,-68.2637 714.5096,-74.7658 720.3901,-78.5631\"/>\n</g>\n<!-- 13 -->\n<g id=\"node14\" class=\"node\">\n<title>13</title>\n<path fill=\"#399de5\" stroke=\"#000000\" d=\"M917.5,-68C917.5,-68 834.5,-68 834.5,-68 828.5,-68 822.5,-62 822.5,-56 822.5,-56 822.5,-12 822.5,-12 822.5,-6 828.5,0 834.5,0 834.5,0 917.5,0 917.5,0 923.5,0 929.5,-6 929.5,-12 929.5,-12 929.5,-56 929.5,-56 929.5,-62 923.5,-68 917.5,-68\"/>\n<text text-anchor=\"start\" x=\"833.5\" y=\"-52.8\" font-family=\"Helvetica,sans-Serif\" font-size=\"14.00\" fill=\"#000000\">entropy = 0.0</text>\n<text text-anchor=\"start\" x=\"832\" y=\"-37.8\" font-family=\"Helvetica,sans-Serif\" font-size=\"14.00\" fill=\"#000000\">samples = 13</text>\n<text text-anchor=\"start\" x=\"830.5\" y=\"-22.8\" font-family=\"Helvetica,sans-Serif\" font-size=\"14.00\" fill=\"#000000\">value = [0, 13]</text>\n<text text-anchor=\"start\" x=\"847\" y=\"-7.8\" font-family=\"Helvetica,sans-Serif\" font-size=\"14.00\" fill=\"#000000\">class = 1</text>\n</g>\n<!-- 12&#45;&gt;13 -->\n<g id=\"edge13\" class=\"edge\">\n<title>12&#45;&gt;13</title>\n<path fill=\"none\" stroke=\"#000000\" d=\"M876,-103.9815C876,-95.618 876,-86.7965 876,-78.3409\"/>\n<polygon fill=\"#000000\" stroke=\"#000000\" points=\"879.5001,-78.2636 876,-68.2637 872.5001,-78.2637 879.5001,-78.2636\"/>\n</g>\n<!-- 14 -->\n<g id=\"node15\" class=\"node\">\n<title>14</title>\n<path fill=\"#67b4eb\" stroke=\"#000000\" d=\"M1054,-68C1054,-68 960,-68 960,-68 954,-68 948,-62 948,-56 948,-56 948,-12 948,-12 948,-6 954,0 960,0 960,0 1054,0 1054,0 1060,0 1066,-6 1066,-12 1066,-12 1066,-56 1066,-56 1066,-62 1060,-68 1054,-68\"/>\n<text text-anchor=\"start\" x=\"956\" y=\"-52.8\" font-family=\"Helvetica,sans-Serif\" font-size=\"14.00\" fill=\"#000000\">entropy = 0.699</text>\n<text text-anchor=\"start\" x=\"963\" y=\"-37.8\" font-family=\"Helvetica,sans-Serif\" font-size=\"14.00\" fill=\"#000000\">samples = 53</text>\n<text text-anchor=\"start\" x=\"957\" y=\"-22.8\" font-family=\"Helvetica,sans-Serif\" font-size=\"14.00\" fill=\"#000000\">value = [10, 43]</text>\n<text text-anchor=\"start\" x=\"978\" y=\"-7.8\" font-family=\"Helvetica,sans-Serif\" font-size=\"14.00\" fill=\"#000000\">class = 1</text>\n</g>\n<!-- 12&#45;&gt;14 -->\n<g id=\"edge14\" class=\"edge\">\n<title>12&#45;&gt;14</title>\n<path fill=\"none\" stroke=\"#000000\" d=\"M924.7796,-103.9815C935.9015,-94.5151 947.7128,-84.462 958.8099,-75.0168\"/>\n<polygon fill=\"#000000\" stroke=\"#000000\" points=\"961.3975,-77.4105 966.744,-68.2637 956.8604,-72.08 961.3975,-77.4105\"/>\n</g>\n</g>\n</svg>\n"
          },
          "metadata": {},
          "execution_count": 66
        }
      ]
    },
    {
      "cell_type": "code",
      "metadata": {
        "id": "dfkKWDEkDr6e"
      },
      "source": [
        ""
      ],
      "execution_count": 66,
      "outputs": []
    }
  ]
}